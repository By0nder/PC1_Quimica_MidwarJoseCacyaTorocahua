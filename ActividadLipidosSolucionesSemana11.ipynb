{
  "nbformat": 4,
  "nbformat_minor": 0,
  "metadata": {
    "colab": {
      "provenance": [],
      "include_colab_link": true
    },
    "kernelspec": {
      "name": "python3",
      "display_name": "Python 3"
    },
    "language_info": {
      "name": "python"
    }
  },
  "cells": [
    {
      "cell_type": "markdown",
      "metadata": {
        "id": "view-in-github",
        "colab_type": "text"
      },
      "source": [
        "<a href=\"https://colab.research.google.com/github/By0nder/QUIMICA_MIDWARJOSECACYATOROCAHUA/blob/main/ActividadLipidosSolucionesSemana11.ipynb\" target=\"_parent\"><img src=\"https://colab.research.google.com/assets/colab-badge.svg\" alt=\"Open In Colab\"/></a>"
      ]
    },
    {
      "cell_type": "code",
      "execution_count": null,
      "metadata": {
        "id": "3xuN9fxNPoZh"
      },
      "outputs": [],
      "source": []
    },
    {
      "cell_type": "markdown",
      "source": [
        "# Fuerzas intermoleculares"
      ],
      "metadata": {
        "id": "A9PtfNd3bVQd"
      }
    },
    {
      "cell_type": "markdown",
      "source": [
        "11.1\n",
        "dipolo-dipolo:  agua (H2O). Los átomos de hidrógeno tienen una carga parcial positiva y el átomo de oxígeno tiene una carga parcial negativa. Las moléculas de agua se atraen entre sí debido a estas cargas parciales1.\n",
        "\n",
        "dipolo-dipolo inducido: Un ejemplo es la interacción entre los átomos de gases nobles, como el helio y el neón, cuando se comprimen en un estado condensado.\n",
        "\n",
        "ion-dipolo: Un ejemplo clásico es la solución acuosa de cloruro de sodio (NaCl). Cuando se disuelve en agua, se disocia completamente en cationes Na+ y aniones Cl-.\n",
        "\n",
        "Fuerzas de dispersión: Un ejemplo común es el metano (CH4). Las únicas fuerzas en el metano son las fuerzas de dispersión porque no hay dipolos permanentes.\n",
        "\n",
        "Fuerzas de van der Waals: Dos moléculas de agua, que incluye tanto las fuerzas dipolo-dipolo como las fuerzas de dispersión."
      ],
      "metadata": {
        "id": "PD0dnsdnZQGs"
      }
    },
    {
      "cell_type": "markdown",
      "source": [
        "11.2\n",
        "La polarizabilidad es una característica dinámica y química de la materia que se manifiesta cuando las moléculas tienen la tendencia a crear dipolos momentáneos en respuesta a estímulos externos. Aquellas moléculas con mayor electronegatividad tienden a ser más polarizables. La relación entre la polarizabilidad y las fuerzas intermoleculares radica en que la formación de dipolos conlleva a que las fuerzas intermoleculares influyan en la distribución momentánea de las cargas o la distorsión de la nube electrónica de los átomos que conforman las moléculas de la sustancia polarizada."
      ],
      "metadata": {
        "id": "dwBPq0Uaa_T2"
      }
    },
    {
      "cell_type": "markdown",
      "source": [
        "11.3 El momento dipolar permanente es la presencia de un momento dipolar eléctrico constante en una molécula, resultado de la distribución desigual de cargas eléctricas. En contraste, el momento dipolar temporal es un momento dipolar eléctrico que puede surgir de manera momentánea en una molécula debido a la redistribución temporal de cargas eléctricas. La distinción principal entre un momento dipolar permanente y un momento dipolar temporal reside en su duración y causa subyacente."
      ],
      "metadata": {
        "id": "iO-aQB6kyfXu"
      }
    },
    {
      "cell_type": "markdown",
      "source": [
        "11.4 La creación de moléculas mediante la unión de átomos es una manifestación de las fuerzas de atracción entre ellos. Los enlaces químicos covalentes, iónicos y metálicos ilustran cómo los átomos se atraen entre sí al compartir electrones, transferir electrones o construir sólidas redes cristalinas."
      ],
      "metadata": {
        "id": "juYctuCvy-i1"
      }
    },
    {
      "cell_type": "markdown",
      "source": [
        "11.5 Punto de ebullición: Los puntos de ebullición de las sustancias son un reflejo de la fuerza de las interacciones intermoleculares.\n",
        "\n",
        "Punto de fusión: De manera similar al punto de ebullición, el punto de fusión también puede proporcionar información acerca de la intensidad de las fuerzas intermoleculares.\n",
        "\n",
        "Viscosidad: La viscosidad es una medida de la resistencia al flujo, y las sustancias con fuerzas intermoleculares más poderosas tienden a exhibir mayor viscosidad.\n",
        "\n",
        "Solubilidad: La capacidad de los compuestos moleculares para disolverse en agua es variable y principalmente depende del tipo de interacciones intermoleculares involucradas."
      ],
      "metadata": {
        "id": "ah2ygmZl1mJO"
      }
    },
    {
      "cell_type": "markdown",
      "source": [
        "# Propiedades de los líquidos"
      ],
      "metadata": {
        "id": "vIKDp3d93g_3"
      }
    },
    {
      "cell_type": "markdown",
      "source": [
        "11.21\n",
        " En un gas, las partículas se encuentran ampliamente separadas, lo que facilita su compresión, ya que existe un gran espacio entre ellas. En contraste, en un líquido, las partículas están mucho más cercanas entre sí, y el espacio entre ellas es considerablemente reducido. Las partículas en un líquido ya están en proximidad suficiente, por lo que no pueden ser comprimidas de manera significativa sin que las fuerzas intermoleculares las repelan entre sí."
      ],
      "metadata": {
        "id": "GVoMzUx-3jPm"
      }
    },
    {
      "cell_type": "markdown",
      "source": [
        "11.22 La tensión superficial se define como la propiedad de los líquidos que provoca que su superficie se comporte como una película elástica a causa de las fuerzas de atracción entre las moléculas en la superficie.\n",
        "\n",
        "La relación entre la tensión superficial y las fuerzas intermoleculares radica en que unas fuerzas intermoleculares más fuertes en la superficie del líquido resultan en una tensión superficial mayor.\n",
        "\n",
        "La tensión superficial decrece a medida que la temperatura aumenta debido a la reducción de las fuerzas intermoleculares en la superficie del líquido."
      ],
      "metadata": {
        "id": "QRkIxwwH4Un_"
      }
    },
    {
      "cell_type": "markdown",
      "source": [
        "11.23   La navaja se mantiene a flote gracias a la capacidad del agua para generar una tensión superficial que permite que objetos livianos, como la navaja, sean sostenidos por la superficie del agua."
      ],
      "metadata": {
        "id": "O6O7dw6E6voX"
      }
    },
    {
      "cell_type": "markdown",
      "source": [
        "11.27 La viscosidad se define como la capacidad de un líquido para oponerse a su flujo. La viscosidad se incrementa cuando las fuerzas intermoleculares son más intensas."
      ],
      "metadata": {
        "id": "QMYrKHT-_Xde"
      }
    },
    {
      "cell_type": "markdown",
      "source": [
        "# Soluciones"
      ],
      "metadata": {
        "id": "JDPtEhwh_km-"
      }
    },
    {
      "cell_type": "markdown",
      "source": [
        "12.5 \"Lo semejante disuelve lo semejante\" implica que sustancias con fuerzas intermoleculares comparables tienen la tendencia a disolverse mutuamente."
      ],
      "metadata": {
        "id": "sDBMu65eB0iP"
      }
    },
    {
      "cell_type": "markdown",
      "source": [
        "\n",
        "12.6 Los procesos endotérmicos de disolución implican la absorción de energía, ya que se requiere para romper las fuerzas intermoleculares presentes en el soluto y el solvente. Por otro lado, los procesos exotérmicos de disolución liberan energía cuando se establecen nuevas interacciones intermoleculares."
      ],
      "metadata": {
        "id": "Ku7Eg01pCTjX"
      }
    },
    {
      "cell_type": "markdown",
      "source": [
        "12.7 La disolución contribuye al incremento de la entropía en el sistema debido a que las partículas del soluto se distribuyen en el solvente, promoviendo una mayor aleatoriedad en el sistema.\n",
        "\n",
        "12.8 La capacidad de un sólido para disolverse en un líquido se ve influenciada por la temperatura y la presión. Dos líquidos son miscibles cuando pueden combinarse en cualquier proporción sin separarse en capas diferentes, lo que indica que las fuerzas intermoleculares entre ellos son compatibles."
      ],
      "metadata": {
        "id": "cAHRl2EcB8yn"
      }
    },
    {
      "cell_type": "markdown",
      "source": [
        "12.9\n",
        "El naftaleno es más soluble en benceno que en agua debido a las similitudes en sus estructuras y fuerzas de dispersión. Ambos son no polares y forman fuerzas de Van der Waals, lo que facilita la disolución en benceno, mientras que el agua es polar y las interacciones con el naftaleno son menos favorables."
      ],
      "metadata": {
        "id": "0KatqUwHCaUf"
      }
    },
    {
      "cell_type": "markdown",
      "source": [
        "# Unidades de concentracion"
      ],
      "metadata": {
        "id": "BsXT1mCDB8rH"
      }
    },
    {
      "cell_type": "markdown",
      "source": [
        "12.14\n",
        "Para convertir entre molaridad, molalidad y porcentaje de masa:\n",
        "\n",
        "De molaridad a molalidad: Conozca la densidad del solvente y aplique la fórmula: Molalidad (m) = Molaridad (M) / (1 + (densidad del solvente en g/mL)).\n",
        "\n",
        "De molalidad a molaridad: Utilice la misma fórmula inversa: Molaridad (M) = Molalidad (m) * (1 + (densidad del solvente en g/mL)).\n",
        "\n",
        "De molaridad a porcentaje de masa: Conozca la masa del soluto en gramos y aplique la fórmula: Porcentaje de masa = (Molaridad (M) * Masa molar del soluto) / 1000 (esto da la masa en gramos).\n",
        "\n",
        "De porcentaje de masa a molaridad: Conozca la masa del soluto en gramos y aplique la fórmula: Molaridad (M) = (Porcentaje de masa * 1000) / Masa molar del soluto.\n",
        "\n",
        "Estas conversiones permiten relacionar las concentraciones de solutos en diferentes unidades de medida."
      ],
      "metadata": {
        "id": "Eer-99-D_XXc"
      }
    },
    {
      "cell_type": "code",
      "source": [
        "#12.15\n",
        "# Datos proporcionados\n",
        "datos_disoluciones = [(5.50, 78.2), (31, 152), (4.5, 29)]\n",
        "\n",
        "for masa_soluto, masa_total in datos_disoluciones:\n",
        "    # Calcula el porcentaje de masa\n",
        "    porcentaje_masa = (masa_soluto / (masa_soluto + masa_total)) * 100\n",
        "\n",
        "    # Imprime el resultado\n",
        "    print(f\"Porcentaje de masa en la disolución: {porcentaje_masa:.2f}%\")\n"
      ],
      "metadata": {
        "colab": {
          "base_uri": "https://localhost:8080/"
        },
        "id": "caWCt1SsXrUt",
        "outputId": "6756fde2-d114-45d7-b1c7-a89d9e86ee7c"
      },
      "execution_count": 2,
      "outputs": [
        {
          "output_type": "stream",
          "name": "stdout",
          "text": [
            "Porcentaje de masa en la disolución: 6.57%\n",
            "Porcentaje de masa en la disolución: 16.94%\n",
            "Porcentaje de masa en la disolución: 13.43%\n"
          ]
        }
      ]
    },
    {
      "cell_type": "code",
      "source": [
        "#12.16\n",
        "# Datos proporcionados\n",
        "datos_disoluciones = [(5, 16.2), (26.2, 1.5)]\n",
        "\n",
        "for masa_soluto, porcentaje_masa in datos_disoluciones:\n",
        "    # Calcula la cantidad de agua necesaria\n",
        "    masa_agua = masa_soluto / ((porcentaje_masa / 100) )\n",
        "\n",
        "    # Imprime el resultado\n",
        "    print(f\"Para preparar una disolución al {porcentaje_masa}% en masa con {masa_soluto}g de soluto, se deben agregar {masa_agua:.2f}g de agua.\")\n"
      ],
      "metadata": {
        "colab": {
          "base_uri": "https://localhost:8080/"
        },
        "id": "aE_RWZWGYeuk",
        "outputId": "111cda62-7b4a-409a-d018-69c554b0f176"
      },
      "execution_count": 4,
      "outputs": [
        {
          "output_type": "stream",
          "name": "stdout",
          "text": [
            "Para preparar una disolución al 16.2% en masa con 5g de soluto, se deben agregar 30.86g de agua.\n",
            "Para preparar una disolución al 1.5% en masa con 26.2g de soluto, se deben agregar 1746.67g de agua.\n"
          ]
        }
      ]
    },
    {
      "cell_type": "code",
      "source": [
        "#12.17\n",
        "# Datos para el caso a)\n",
        "masa_sacarosa = 14.3\n",
        "masa_agua_a = 676\n",
        "masa_molar_sacarosa = 342.34  # g/mol\n",
        "\n",
        "# Cálculo de moles de sacarosa\n",
        "moles_sacarosa = masa_sacarosa / masa_molar_sacarosa\n",
        "\n",
        "# Cálculo de la molalidad\n",
        "molalidad_a = moles_sacarosa / (masa_agua_a / 1000)\n",
        "\n",
        "# Datos para el caso b)\n",
        "moles_etilenglicol = 7.20\n",
        "masa_agua_b = 3546\n",
        "masa_molar_etilenglicol = 62.07\n",
        "# Cálculo de la molalidad\n",
        "moles_etilenglicol = 7.20\n",
        "molalidad_b = moles_etilenglicol / (masa_agua_b / 1000)\n",
        "\n",
        "# Imprimir resultados\n",
        "print(f'Molalidad (a): {molalidad_a} mol/kg')\n",
        "print(f'Molalidad (b): {molalidad_b} mol/kg')\n"
      ],
      "metadata": {
        "colab": {
          "base_uri": "https://localhost:8080/"
        },
        "id": "lvEE0lrJaBKE",
        "outputId": "b44d812d-1ac5-4e2b-e855-d876ebdc54db"
      },
      "execution_count": 6,
      "outputs": [
        {
          "output_type": "stream",
          "name": "stdout",
          "text": [
            "Molalidad (a): 0.06179192076253477 mol/kg\n",
            "Molalidad (b): 2.0304568527918785 mol/kg\n"
          ]
        }
      ]
    },
    {
      "cell_type": "code",
      "source": [
        "#12.18\n",
        "# Datos para el caso a\n",
        "concentracion_a = 2.50\n",
        "densidad_a = 1.08\n",
        "\n",
        "# Cálculo de los moles de NaCl\n",
        "volumen_litro = 1\n",
        "moles_NaCl = concentracion_a * volumen_litro\n",
        "\n",
        "# Cálculo del peso del disolvente (agua) en kg\n",
        "volumen_mL = volumen_litro * 1000\n",
        "peso_disolvente_kg = densidad_a * volumen_mL / 1000\n",
        "\n",
        "# Cálculo de la molalidad\n",
        "molalidad_a = moles_NaCl / peso_disolvente_kg\n",
        "\n",
        "# Imprimir resultado\n",
        "print(f'Molalidad (a): {molalidad_a} mol/kg')\n",
        "\n",
        "# Datos para el caso b\n",
        "porcentaje_masa_b = 48.2\n",
        "masa_molar_KBr = 119.0\n",
        "peso_solucion_b = 100.0\n",
        "\n",
        "# Cálculo de los moles de KBr\n",
        "moles_KBr = (porcentaje_masa_b / 100) * peso_solucion_b\n",
        "\n",
        "# Cálculo del peso del disolvente (agua) en kg\n",
        "peso_disolvente_kg_b = peso_solucion_b - moles_KBr * masa_molar_KBr / 1000\n",
        "\n",
        "# Cálculo de la molalidad\n",
        "molalidad_b = moles_KBr / peso_disolvente_kg_b\n",
        "\n",
        "# Imprimir resultado\n",
        "print(f'Molalidad (b): {molalidad_b} mol/kg')\n"
      ],
      "metadata": {
        "colab": {
          "base_uri": "https://localhost:8080/"
        },
        "id": "Vg7MDrgXa3sL",
        "outputId": "6d610a70-8870-4a3b-a70c-dd8b33750640"
      },
      "execution_count": 8,
      "outputs": [
        {
          "output_type": "stream",
          "name": "stdout",
          "text": [
            "Molalidad (a): 2.314814814814815 mol/kg\n",
            "Molalidad (b): 0.5113287971467428 mol/kg\n"
          ]
        }
      ]
    },
    {
      "cell_type": "code",
      "source": [
        "#12.21\n",
        "# Datos\n",
        "porcentaje_prueba = 75\n",
        "volumen_ginebra_L = 1.00\n",
        "densidad_etanol = 0.798\n",
        "\n",
        "# Calcular el porcentaje en volumen de etanol\n",
        "\n",
        "porcentaje_etanol = porcentaje_prueba / 2\n",
        "\n",
        "# Calcular la masa de etanol en la ginebra\n",
        "\n",
        "masa_etanol_g = volumen_ginebra_L * densidad_etanol * porcentaje_etanol / 1000\n",
        "\n",
        "# Imprimir resultado\n",
        "print(f'La masa de etanol en 1.00 L de ginebra \"prueba 75\" es de {masa_etanol_g:.2f} gramos.')\n"
      ],
      "metadata": {
        "colab": {
          "base_uri": "https://localhost:8080/"
        },
        "id": "uYE7gqfDbfMp",
        "outputId": "c7fe2517-d8b7-417b-9315-46de11f5de13"
      },
      "execution_count": 9,
      "outputs": [
        {
          "output_type": "stream",
          "name": "stdout",
          "text": [
            "La masa de etanol en 1.00 L de ginebra \"prueba 75\" es de 0.03 gramos.\n"
          ]
        }
      ]
    },
    {
      "cell_type": "markdown",
      "source": [
        "# Efecto de la temperatura en la solubilidad"
      ],
      "metadata": {
        "id": "RKmny9EMVntq"
      }
    },
    {
      "cell_type": "code",
      "source": [
        "#12.27\n",
        "# Datos proporcionados\n",
        "masa_sal = 3.20\n",
        "masa_agua = 9.10\n",
        "\n",
        "# Calcula la masa total de la solución\n",
        "masa_total = masa_sal + masa_agua\n",
        "\n",
        "# Calcula la solubilidad\n",
        "solubilidad = (masa_sal / masa_total) * 100\n",
        "\n",
        "# Imprime el resultado\n",
        "print(f\"La solubilidad de la sal es {solubilidad:.2f} g de sal en 100g de H2O.\")\n"
      ],
      "metadata": {
        "colab": {
          "base_uri": "https://localhost:8080/"
        },
        "id": "zgFb-GPyXa0g",
        "outputId": "8bae3fa6-96a2-4965-8ccb-4d89e41574c8"
      },
      "execution_count": 1,
      "outputs": [
        {
          "output_type": "stream",
          "name": "stdout",
          "text": [
            "La solubilidad de la sal es 26.02 g de sal/100g de H2O.\n"
          ]
        }
      ]
    }
  ]
}