{
  "nbformat": 4,
  "nbformat_minor": 0,
  "metadata": {
    "colab": {
      "provenance": [],
      "authorship_tag": "ABX9TyOXaKlQYvG62Qud6gxnD05c",
      "include_colab_link": true
    },
    "kernelspec": {
      "name": "python3",
      "display_name": "Python 3"
    },
    "language_info": {
      "name": "python"
    }
  },
  "cells": [
    {
      "cell_type": "markdown",
      "metadata": {
        "id": "view-in-github",
        "colab_type": "text"
      },
      "source": [
        "<a href=\"https://colab.research.google.com/github/By0nder/QUIMICA_MIDWARJOSECACYATOROCAHUA/blob/main/Semana12.ipynb\" target=\"_parent\"><img src=\"https://colab.research.google.com/assets/colab-badge.svg\" alt=\"Open In Colab\"/></a>"
      ]
    },
    {
      "cell_type": "code",
      "execution_count": 1,
      "metadata": {
        "colab": {
          "base_uri": "https://localhost:8080/"
        },
        "id": "Qj4tsbFELcIq",
        "outputId": "a0e8331b-64c1-4c01-d0c2-95007f8d6f07"
      },
      "outputs": [
        {
          "output_type": "stream",
          "name": "stdout",
          "text": [
            "Collecting rdkit\n",
            "  Downloading rdkit-2023.9.1-cp310-cp310-manylinux_2_17_x86_64.manylinux2014_x86_64.whl (30.5 MB)\n",
            "\u001b[2K     \u001b[90m━━━━━━━━━━━━━━━━━━━━━━━━━━━━━━━━━━━━━━━━\u001b[0m \u001b[32m30.5/30.5 MB\u001b[0m \u001b[31m30.0 MB/s\u001b[0m eta \u001b[36m0:00:00\u001b[0m\n",
            "\u001b[?25hRequirement already satisfied: numpy in /usr/local/lib/python3.10/dist-packages (from rdkit) (1.23.5)\n",
            "Requirement already satisfied: Pillow in /usr/local/lib/python3.10/dist-packages (from rdkit) (9.4.0)\n",
            "Installing collected packages: rdkit\n",
            "Successfully installed rdkit-2023.9.1\n",
            "Collecting pyscf\n",
            "  Downloading pyscf-2.4.0-py3-none-manylinux_2_17_x86_64.manylinux2014_x86_64.whl (47.3 MB)\n",
            "\u001b[2K     \u001b[90m━━━━━━━━━━━━━━━━━━━━━━━━━━━━━━━━━━━━━━━━\u001b[0m \u001b[32m47.3/47.3 MB\u001b[0m \u001b[31m10.7 MB/s\u001b[0m eta \u001b[36m0:00:00\u001b[0m\n",
            "\u001b[?25hRequirement already satisfied: numpy!=1.16,!=1.17,>=1.13 in /usr/local/lib/python3.10/dist-packages (from pyscf) (1.23.5)\n",
            "Requirement already satisfied: scipy!=1.5.0,!=1.5.1 in /usr/local/lib/python3.10/dist-packages (from pyscf) (1.11.3)\n",
            "Requirement already satisfied: h5py>=2.7 in /usr/local/lib/python3.10/dist-packages (from pyscf) (3.9.0)\n",
            "Requirement already satisfied: setuptools in /usr/local/lib/python3.10/dist-packages (from pyscf) (67.7.2)\n",
            "Installing collected packages: pyscf\n",
            "Successfully installed pyscf-2.4.0\n"
          ]
        }
      ],
      "source": [
        "! pip install rdkit\n",
        "! pip install pyscf"
      ]
    },
    {
      "cell_type": "code",
      "source": [
        "# import these definitions\n",
        "from rdkit import Chem\n",
        "from rdkit.Chem import Draw\n",
        "from rdkit.Chem import AllChem\n",
        "from rdkit.Chem.Draw import IPythonConsole\n",
        "IPythonConsole.drawOptions.addAtomIndices = True\n",
        ""
      ],
      "metadata": {
        "id": "5hDhBJlgL_OA"
      },
      "execution_count": 2,
      "outputs": []
    },
    {
      "cell_type": "code",
      "source": [
        "smiles_2 = \"F\\C=C/C\"\n",
        "#F/C(Br)=C(/Cl)I\n",
        "mol_izq = Chem.MolFromSmiles(smiles_2)\n",
        "\n",
        "# Add hydrogens\n",
        "mol_izqh = Chem.AddHs(mol_izq)\n",
        "Chem.AllChem.EmbedMolecule(mol_izqh)\n",
        "# Display both structures\n",
        "\n",
        "Chem.MolToXYZFile(mol_izqh,\"toluene_2.xyz\")\n",
        "Draw.MolsToGridImage([mol_izq, mol_izqh], subImgSize=(300,300))"
      ],
      "metadata": {
        "colab": {
          "base_uri": "https://localhost:8080/",
          "height": 317
        },
        "id": "1n_k4lRFd9X4",
        "outputId": "074a12d0-c6ca-4cbc-b834-03c1da4fb552"
      },
      "execution_count": 3,
      "outputs": [
        {
          "output_type": "execute_result",
          "data": {
            "image/png": "[encoded data removed]",
            "text/plain": [
              "<IPython.core.display.Image object>"
            ]
          },
          "metadata": {},
          "execution_count": 3
        }
      ]
    },
    {
      "cell_type": "code",
      "source": [
        "#Crea una lista con diferentes diedros\n",
        "diedros = [0, 30, 60, 90, 120, 150, 180, 210, 240, 270, 300, 330]\n",
        "mol_lista = []\n",
        "for i in diedros:\n",
        "  Chem.AllChem.SetDihedralDeg(mol_izqh.GetConformer(0),1,2,3,6,i)\n",
        "  #mol_lista.append(mol)\n",
        "  Chem.MolToXYZFile(mol_izqh, f\"{i}.xyz\")"
      ],
      "metadata": {
        "id": "yNs6ywgAeYk_"
      },
      "execution_count": 4,
      "outputs": []
    },
    {
      "cell_type": "code",
      "source": [
        "from pyscf import gto, dft\n",
        "# Cargar la molécula desde el archivo XYZ\n",
        "mol_izqhh = gto.M(atom=\"toluene_2.xyz\")\n",
        "\n",
        "# Establecer la base de funciones\n",
        "mol_izqhh.basis = \"3-21G\"\n",
        "\n",
        "# Configurar el método de DFT (Kohn-Sham) y la función de intercambio-correlación\n",
        "mf = dft.KS(mol_izqhh)\n",
        "mf.xc = 'b3lyp'\n",
        "\n",
        "# Calcular la energía total\n",
        "energy_1 = mf.kernel()\n",
        "\n",
        "# Imprimir la energía total\n",
        "print(\"Energía total de los reactivos es: \", energy_1)"
      ],
      "metadata": {
        "colab": {
          "base_uri": "https://localhost:8080/"
        },
        "id": "iVnhsn-6evUz",
        "outputId": "597690fd-5560-4613-93fb-5681b6171ad4"
      },
      "execution_count": 5,
      "outputs": [
        {
          "output_type": "stream",
          "name": "stderr",
          "text": [
            "/usr/local/lib/python3.10/dist-packages/pyscf/dft/libxc.py:771: UserWarning: Since PySCF-2.3, B3LYP (and B3P86) are changed to the VWN-RPA variant, corresponding to the original definition by Stephens et al. (issue 1480) and the same as the B3LYP functional in Gaussian. To restore the VWN5 definition, you can put the setting \"B3LYP_WITH_VWN5 = True\" in pyscf_conf.py\n",
            "  warnings.warn('Since PySCF-2.3, B3LYP (and B3P86) are changed to the VWN-RPA variant, '\n"
          ]
        },
        {
          "output_type": "stream",
          "name": "stdout",
          "text": [
            "converged SCF energy = -214.251651928338\n",
            "Energía total de los reactivos es:  -214.25165192833754\n"
          ]
        }
      ]
    },
    {
      "cell_type": "code",
      "source": [
        "#SMILES notation for the molecule\n",
        "smiles = \"F/C=C/C\"\n",
        "\n",
        "# Create a molecule from the SMILES notation\n",
        "mol = Chem.MolFromSmiles(smiles)\n",
        "\n",
        "# Add hydrogens to the molecule\n",
        "mol_h = Chem.AddHs(mol)\n",
        "\n",
        "# Generate a 3D conformer for the molecule\n",
        "Chem.AllChem.EmbedMolecule(mol_h)\n",
        "\n",
        "# Save the molecule in XYZ format for future use\n",
        "Chem.MolToXYZFile(mol_h, \"toluene.xyz\")\n",
        "Draw.MolsToGridImage([mol, mol_h], subImgSize=(300,300))"
      ],
      "metadata": {
        "colab": {
          "base_uri": "https://localhost:8080/",
          "height": 317
        },
        "id": "QvxitH1Gew6U",
        "outputId": "bbc4e006-b44f-4036-ce07-6aacb85dff3c"
      },
      "execution_count": 9,
      "outputs": [
        {
          "output_type": "execute_result",
          "data": {
            "image/png": "[encoded data removed]",
            "text/plain": [
              "<IPython.core.display.Image object>"
            ]
          },
          "metadata": {},
          "execution_count": 9
        }
      ]
    },
    {
      "cell_type": "code",
      "source": [
        "#Crea una lista con diferentes diedros\n",
        "diedros = [0, 30, 60, 90, 120, 150, 180, 210, 240, 270, 300, 330]\n",
        "mol_lista = []\n",
        "for i in diedros:\n",
        "  Chem.AllChem.SetDihedralDeg(mol_h.GetConformer(0),1,2,3,6,i)\n",
        "  #mol_lista.append(mol)\n",
        "  Chem.MolToXYZFile(mol_h, f\"{i}.xyz\")"
      ],
      "metadata": {
        "id": "88XCKfP5e7Tw"
      },
      "execution_count": 10,
      "outputs": []
    },
    {
      "cell_type": "code",
      "source": [
        "#Crea una lista con diferentes diedros\n",
        "diedros = [0, 30, 60, 90, 120, 150, 180, 210, 240, 270, 300, 330]\n",
        "mol_lista = []\n",
        "for i in diedros:\n",
        "  Chem.AllChem.SetDihedralDeg(mol_h.GetConformer(0),1,2,3,6,i)\n",
        "  #mol_lista.append(mol)\n",
        "  Chem.MolToXYZFile(mol_h, f\"{i}.xyz\")"
      ],
      "metadata": {
        "id": "oxga_DuCfK0C"
      },
      "execution_count": 11,
      "outputs": []
    },
    {
      "cell_type": "code",
      "source": [
        "import numpy as np\n",
        "from pyscf import gto, dft\n",
        "\n",
        "# Función para calcular la energía y manejar errores\n",
        "def calcular_energia(mol):\n",
        "    try:\n",
        "        # Configurar el método de DFT (Kohn-Sham) y la función de intercambio-correlación\n",
        "        mf = dft.KS(mol)\n",
        "        mf.xc = 'b3lyp'\n",
        "\n",
        "        # Calcular la energía total\n",
        "        energy = mf.kernel()\n",
        "\n",
        "        # Imprimir la energía total\n",
        "        print(\"¡Cálculo exitoso :D!\")\n",
        "        print(\"Energía total de los productos es:\", energy)\n",
        "    except Exception as e:\n",
        "        print(\"¡Ups! Algo salió mal al calcular la energía.\")\n",
        "        print(\"Error:\", e)\n",
        "\n",
        "# Cargar la molécula desde el archivo XYZ\n",
        "mol_hh = gto.M(atom=\"toluene.xyz\")\n",
        "\n",
        "# Establecer la base de funciones\n",
        "mol_hh.basis = \"3-21G\"\n",
        "\n",
        "# Calcular la energía total y manejar errores\n",
        "calcular_energia(mol_hh)\n"
      ],
      "metadata": {
        "colab": {
          "base_uri": "https://localhost:8080/"
        },
        "id": "R8fNYHEafL9P",
        "outputId": "9692dd15-40fc-41bd-bb7f-a3a1550a28e6"
      },
      "execution_count": 19,
      "outputs": [
        {
          "output_type": "stream",
          "name": "stdout",
          "text": [
            "converged SCF energy = -214.251852671681\n",
            "¡Cálculo exitoso!\n",
            "Energía total de los productos es: -214.25185267168143\n"
          ]
        }
      ]
    },
    {
      "cell_type": "code",
      "source": [
        "energia_activacion = energy - energy_1\n",
        "print(\"La energia de activacion es: \", energia_activacion)\n",
        "print(\"La reacion es exotermica\")\n",
        ""
      ],
      "metadata": {
        "colab": {
          "base_uri": "https://localhost:8080/"
        },
        "id": "AwCqGYePfRi_",
        "outputId": "db5d031c-f42e-4c4b-9614-4bf2118d2e6e"
      },
      "execution_count": 13,
      "outputs": [
        {
          "output_type": "stream",
          "name": "stdout",
          "text": [
            "La energia de activacion es:  -0.00020074334361197543\n",
            "La reacion es exotermica\n"
          ]
        }
      ]
    },
    {
      "cell_type": "code",
      "source": [
        "!pip install git+https://github.com/giacomomarchioro/PyEnergyDiagrams\n",
        ""
      ],
      "metadata": {
        "colab": {
          "base_uri": "https://localhost:8080/"
        },
        "id": "VLXOIIeDfTmd",
        "outputId": "d9135ddb-cc8a-4240-ca7c-fc39fe3a2b2b"
      },
      "execution_count": 15,
      "outputs": [
        {
          "output_type": "stream",
          "name": "stdout",
          "text": [
            "Collecting git+https://github.com/giacomomarchioro/PyEnergyDiagrams\n",
            "  Cloning https://github.com/giacomomarchioro/PyEnergyDiagrams to /tmp/pip-req-build-clnz6x6z\n",
            "  Running command git clone --filter=blob:none --quiet https://github.com/giacomomarchioro/PyEnergyDiagrams /tmp/pip-req-build-clnz6x6z\n",
            "  Resolved https://github.com/giacomomarchioro/PyEnergyDiagrams to commit 3d6086564aa99aa0a0f3db4a510b736015562d5c\n",
            "  Preparing metadata (setup.py) ... \u001b[?25l\u001b[?25hdone\n",
            "Requirement already satisfied: matplotlib in /usr/local/lib/python3.10/dist-packages (from energydiagram==0.2.0) (3.7.1)\n",
            "Requirement already satisfied: contourpy>=1.0.1 in /usr/local/lib/python3.10/dist-packages (from matplotlib->energydiagram==0.2.0) (1.2.0)\n",
            "Requirement already satisfied: cycler>=0.10 in /usr/local/lib/python3.10/dist-packages (from matplotlib->energydiagram==0.2.0) (0.12.1)\n",
            "Requirement already satisfied: fonttools>=4.22.0 in /usr/local/lib/python3.10/dist-packages (from matplotlib->energydiagram==0.2.0) (4.44.0)\n",
            "Requirement already satisfied: kiwisolver>=1.0.1 in /usr/local/lib/python3.10/dist-packages (from matplotlib->energydiagram==0.2.0) (1.4.5)\n",
            "Requirement already satisfied: numpy>=1.20 in /usr/local/lib/python3.10/dist-packages (from matplotlib->energydiagram==0.2.0) (1.23.5)\n",
            "Requirement already satisfied: packaging>=20.0 in /usr/local/lib/python3.10/dist-packages (from matplotlib->energydiagram==0.2.0) (23.2)\n",
            "Requirement already satisfied: pillow>=6.2.0 in /usr/local/lib/python3.10/dist-packages (from matplotlib->energydiagram==0.2.0) (9.4.0)\n",
            "Requirement already satisfied: pyparsing>=2.3.1 in /usr/local/lib/python3.10/dist-packages (from matplotlib->energydiagram==0.2.0) (3.1.1)\n",
            "Requirement already satisfied: python-dateutil>=2.7 in /usr/local/lib/python3.10/dist-packages (from matplotlib->energydiagram==0.2.0) (2.8.2)\n",
            "Requirement already satisfied: six>=1.5 in /usr/local/lib/python3.10/dist-packages (from python-dateutil>=2.7->matplotlib->energydiagram==0.2.0) (1.16.0)\n",
            "Building wheels for collected packages: energydiagram\n",
            "  Building wheel for energydiagram (setup.py) ... \u001b[?25l\u001b[?25hdone\n",
            "  Created wheel for energydiagram: filename=energydiagram-0.2.0-py3-none-any.whl size=9466 sha256=9cd3e542269648877faedc36033004942eac7de600412259f6196994daa638cf\n",
            "  Stored in directory: /tmp/pip-ephem-wheel-cache-8ryw9ea0/wheels/fd/36/8c/10ed87cd41f9638b1e3a44dabe7e1e185131d967ea6ed395cf\n",
            "Successfully built energydiagram\n",
            "Installing collected packages: energydiagram\n",
            "Successfully installed energydiagram-0.2.0\n"
          ]
        }
      ]
    },
    {
      "cell_type": "code",
      "source": [
        "import matplotlib.pyplot as plt\n",
        "from energydiagram import ED\n",
        "\n",
        "# Valores de energía (reemplaza energy_1 y energy con tus valores)\n",
        "energia_reactivos = 50\n",
        "energia_productos = 20\n",
        "\n",
        "energia_activacion = energia_reactivos - energia_productos\n",
        "\n",
        "diagram = ED()\n",
        "\n",
        "diagram.add_level(energia_reactivos, 'Reactivos', color='#FFA500', linestyle='--')  # Cambio de color y estilo\n",
        "diagram.add_level(energia_activacion, 'Estado de Transición', color='purple', linestyle='-.')  # Cambio de color y estilo\n",
        "diagram.add_level(energia_productos, 'Productos', color='#4682B4', linestyle=':')  # Cambio de color y estilo\n",
        "\n",
        "diagram.add_link(0, 1)\n",
        "diagram.add_link(1, 2)\n",
        "\n",
        "diagram.plot(ylabel=\"Energía / molkcal \")\n",
        "plt.show()\n"
      ],
      "metadata": {
        "colab": {
          "base_uri": "https://localhost:8080/",
          "height": 393
        },
        "id": "WeLikpt8faJD",
        "outputId": "b020d129-eee3-41ae-c4f9-606b8bdada24"
      },
      "execution_count": 18,
      "outputs": [
        {
          "output_type": "display_data",
          "data": {
            "text/plain": [
              "<Figure size 640x480 with 1 Axes>"
            ],
            "image/png": "[encoded data removed]"
          },
          "metadata": {}
        }
      ]
    }
  ]
}